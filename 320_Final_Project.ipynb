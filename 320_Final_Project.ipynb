{
  "nbformat": 4,
  "nbformat_minor": 0,
  "metadata": {
    "colab": {
      "provenance": []
    },
    "kernelspec": {
      "name": "python3",
      "display_name": "Python 3"
    },
    "language_info": {
      "name": "python"
    }
  },
  "cells": [
    {
      "cell_type": "markdown",
      "source": [
        "# **Road Traffic Accidents**\n",
        "\n",
        "Fall 2024 Data Science Project\n",
        "\n",
        "Ayat Noor, Nandini Shah, Henna Poon\n",
        "\n",
        "\n",
        "\n",
        "**Contributions**\n",
        "\n",
        "Ayat Noor: Drafted the introduction and formulated key research questions to establish a solid foundation for the project.\n",
        "Conducted a Chi-Square test to evaluate the correlation between location (by state) and accident severity.\n",
        "\n",
        "Henna Poon: Prepared the dataset, cleaned, and preprocessed data for analysis. Conducted initial exploratory data analysis and created visualizations for key patterns.\n",
        "\n",
        "Nandini Shah: Explored data trends and contributed to statistical analysis. Created boxplots to highlight variations in accident severity and wrote the conclusion."
      ],
      "metadata": {
        "id": "-J7XAkOdzd8e"
      }
    },
    {
      "cell_type": "markdown",
      "source": [
        "# **2. Introduction**\n",
        "\n",
        "Traffic accidents are a significant concern worldwide, impacting public safety and economic costs. By analyzing data on road traffic accidents, we aim to uncover patterns and insights that can inform safety measures and urban planning.\n",
        "\n",
        "# Key Questions:\n",
        "\n",
        "How does the time of day impact the severity of road accidents?\n",
        "Are weather conditions associated with the severity of road accidents?\n",
        "Do certain states have significantly different accident severity distributions?\n",
        "\n",
        "Importance: Understanding these trends is crucial for reducing traffic accidents and saving lives."
      ],
      "metadata": {
        "id": "EikPGSc5htru"
      }
    },
    {
      "cell_type": "markdown",
      "source": [
        "# **3. Data Curation**\n",
        "\n",
        "The dataset for this project was sourced from Kaggle: [Road Traffic Accidents Dataset](https://www.kaggle.com/datasets/sobhanmoosavi/us-accidents). It contains data from 2017 to 2020, including details such as time, location, weather, and severity of accidents.\n",
        "\n",
        "We used a sampled version of the dataset that contains 500,000 datapoints: [Sampled Data](https://drive.google.com/file/d/1U3u8QYzLjnEaSurtZfSAS_oh9AT2Mn8X)\n",
        "\n",
        "Link to the paper our dataset comes from: https://dl.acm.org/doi/pdf/10.1145/3347146.3359078.\n",
        "\n",
        "# Steps Taken to Curate the Data:\n",
        "\n",
        "Loaded the data:\n",
        "Imported the dataset into a Pandas DataFrame.\n",
        "\n",
        "Dropped irrelevant columns:\n",
        "Removed unnecessary features such as Zipcode, City, Wind Direction, and Description that did not add value to our analysis.\n",
        "\n",
        "Simplified features:\n",
        "Combined binary features like Crossing, Bump, and Railway into a single POI (Points of Interest) column.\n",
        "\n",
        "Created new features:\n",
        "Extracted Day_of_Week and Hour_of_Day from the Start_Time column for temporal analysis.\n",
        "\n",
        "Cleaned categorical data:\n",
        "Grouped weather conditions into categories such as Fair, Cloudy, Precipitation, and Low Visibility.\n",
        "\n",
        "Filtered data: Removed rows with null or ambiguous values."
      ],
      "metadata": {
        "id": "smnEUplrh_4V"
      }
    },
    {
      "cell_type": "markdown",
      "source": [
        "**Imports:**"
      ],
      "metadata": {
        "id": "_HrWNdeuimtY"
      }
    },
    {
      "cell_type": "code",
      "execution_count": 1,
      "metadata": {
        "id": "tTPtu9yZsGBS"
      },
      "outputs": [],
      "source": [
        "import pandas as pd\n",
        "from scipy import stats\n",
        "from scipy.stats import mannwhitneyu\n",
        "from itertools import combinations\n",
        "import statsmodels.stats.multitest as multitest\n",
        "import seaborn as sns\n",
        "import matplotlib.pyplot as plt\n",
        "\n",
        "from google.colab import drive\n",
        "import numpy as np"
      ]
    },
    {
      "cell_type": "markdown",
      "source": [
        "**Loading Data into Dataframe:**"
      ],
      "metadata": {
        "id": "Hk6nqGSdwScp"
      }
    },
    {
      "cell_type": "code",
      "source": [
        "df = pd.read_csv('US_Accidents_March23_sampled_500k.csv')"
      ],
      "metadata": {
        "id": "h9-gPXauBNiY",
        "colab": {
          "base_uri": "https://localhost:8080/"
        },
        "outputId": "9ee71303-133b-43f5-a8fd-30d9793078b7"
      },
      "execution_count": 7,
      "outputs": [
        {
          "output_type": "stream",
          "name": "stderr",
          "text": [
            "<ipython-input-7-6dc9a165a0e9>:1: DtypeWarning: Columns (29,30,31,32,33,34,35,36,37,38,39,40,41) have mixed types. Specify dtype option on import or set low_memory=False.\n",
            "  df = pd.read_csv('US_Accidents_March23_sampled_500k.csv')\n"
          ]
        }
      ]
    },
    {
      "cell_type": "markdown",
      "source": [
        "**Handling Time:**\n",
        "\n",
        "We removed End_Time and changed Start_Time to just Time.\n",
        "\n",
        "We also added a Day_of_Week column and Hour_of_Day column to make time based comparisons easier."
      ],
      "metadata": {
        "id": "ljI0wjPN5NrG"
      }
    },
    {
      "cell_type": "code",
      "source": [
        "# Rename Start_Time to Time\n",
        "df.rename(columns={'Start_Time': 'Time'}, inplace=True)\n",
        "\n",
        "# Reformat Time to be a datetime\n",
        "df['Time'] = pd.to_datetime(df['Time'], format='mixed')\n",
        "\n",
        "# Drop End_Time\n",
        "df = df.drop(columns='End_Time')\n",
        "\n",
        "# Create day and hour columns\n",
        "df['Day_of_Week'] = df['Time'].dt.day_name()\n",
        "df['Hour_of_Day'] = df['Time'].dt.hour"
      ],
      "metadata": {
        "id": "WMzV2Awc5f1h"
      },
      "execution_count": 8,
      "outputs": []
    },
    {
      "cell_type": "markdown",
      "source": [
        "**Handling Points of Interest (POI):**\n",
        "\n",
        "Many of the columns in our data like Bump, Crossing, and Railway indicate points of interest. We will be combining all of these columns into one called POI in order to simplify and reduce the amount of features in our dataset."
      ],
      "metadata": {
        "id": "x0rD4Ks45ln0"
      }
    },
    {
      "cell_type": "code",
      "source": [
        "# Create POI column\n",
        "df['POI'] = df[['Bump', 'Crossing', 'Give_Way', 'Junction', 'No_Exit', 'Railway','Roundabout', 'Station', 'Stop', 'Traffic_Calming', 'Traffic_Signal','Turning_Loop', 'Amenity']].any(axis=1)\n",
        "\n",
        "# Drop all extra columns\n",
        "df = df.drop(columns=['Bump', 'Crossing', 'Give_Way', 'Junction', 'No_Exit', 'Railway','Roundabout', 'Station', 'Stop', 'Traffic_Calming', 'Traffic_Signal','Turning_Loop', 'Amenity'])"
      ],
      "metadata": {
        "id": "TTkAESIGwJWk"
      },
      "execution_count": 9,
      "outputs": []
    },
    {
      "cell_type": "markdown",
      "source": [
        "**Drop Irrelevant Columns:**\n",
        "\n",
        "We dropped other columns that are much too specific for our purposes including zipcode, latitude and longitude, airpoirt codes, and wind direction. We would not be able to find meaningful trends because these features might not exist for all datapoints or do not contribute in significant ways to the cause of an accident."
      ],
      "metadata": {
        "id": "9m0egeHr62GQ"
      }
    },
    {
      "cell_type": "code",
      "source": [
        "# Dropping columns that gives irrelevant location info\n",
        "df = df.drop(columns=['Country', 'Start_Lat', 'Start_Lng', 'End_Lat', 'End_Lng', 'Zipcode', 'Street', 'City', 'County', 'Distance(mi)'])\n",
        "\n",
        "# Dropping columns that give too specific Weather info\n",
        "df = df.drop(columns=['Humidity(%)', 'Weather_Timestamp', 'Wind_Direction', 'Pressure(in)', 'Wind_Speed(mph)', 'Wind_Chill(F)'])\n",
        "\n",
        "# Dropping columns that give irrelevant time info\n",
        "df = df.drop(columns=['Timezone', 'Civil_Twilight', 'Nautical_Twilight', 'Astronomical_Twilight'])\n",
        "\n",
        "# Dropping columns that are unuseful\n",
        "df = df.drop(columns=['Description', 'Airport_Code', 'Source'])\n",
        "\n",
        "df"
      ],
      "metadata": {
        "colab": {
          "base_uri": "https://localhost:8080/",
          "height": 779
        },
        "id": "-SrlZdo94tUF",
        "outputId": "27106cd9-08d7-429f-cf0a-baeb9bcb98cd"
      },
      "execution_count": 10,
      "outputs": [
        {
          "output_type": "execute_result",
          "data": {
            "text/plain": [
              "               ID  Severity                Time State  Temperature(F)  \\\n",
              "0       A-2047758         2 2019-06-12 10:10:56    LA            77.0   \n",
              "1       A-4694324         2 2022-12-03 23:37:14    VA            45.0   \n",
              "2       A-5006183         2 2022-08-20 13:13:00    CA            68.0   \n",
              "3       A-4237356         2 2022-02-21 17:43:04    MN            27.0   \n",
              "4       A-6690583         2 2020-12-04 01:46:00    CA            42.0   \n",
              "...           ...       ...                 ...   ...             ...   \n",
              "101041   A-933283         2 2021-08-19 06:48:01    SC            76.0   \n",
              "101042  A-4280589         2 2022-09-06 09:30:00    DE            71.0   \n",
              "101043  A-2059844         3 2019-06-19 09:20:51    VA            73.0   \n",
              "101044   A-708466         3 2022-02-16 06:12:23    IL            46.0   \n",
              "101045  A-5866055         2 2021-03-23 17:02:30   NaN             NaN   \n",
              "\n",
              "        Visibility(mi)  Precipitation(in) Weather_Condition Sunrise_Sunset  \\\n",
              "0                10.00               0.00              Fair            Day   \n",
              "1                10.00               0.00              Fair          Night   \n",
              "2                10.00               0.00              Fair            Day   \n",
              "3                10.00               0.00        Wintry Mix            Day   \n",
              "4                10.00               0.00              Fair          Night   \n",
              "...                ...                ...               ...            ...   \n",
              "101041           10.00               0.00              Fair          Night   \n",
              "101042            0.75               0.52        Heavy Rain            Day   \n",
              "101043           10.00               0.00     Mostly Cloudy            Day   \n",
              "101044           10.00               0.00            Cloudy          Night   \n",
              "101045             NaN                NaN               NaN            NaN   \n",
              "\n",
              "       Day_of_Week  Hour_of_Day    POI  \n",
              "0        Wednesday           10   True  \n",
              "1         Saturday           23  False  \n",
              "2         Saturday           13   True  \n",
              "3           Monday           17  False  \n",
              "4           Friday            1  False  \n",
              "...            ...          ...    ...  \n",
              "101041    Thursday            6  False  \n",
              "101042     Tuesday            9  False  \n",
              "101043   Wednesday            9  False  \n",
              "101044   Wednesday            6  False  \n",
              "101045     Tuesday           17  False  \n",
              "\n",
              "[101046 rows x 12 columns]"
            ],
            "text/html": [
              "\n",
              "  <div id=\"df-17ae20dd-0745-4e80-b2d3-12c499eecbb7\" class=\"colab-df-container\">\n",
              "    <div>\n",
              "<style scoped>\n",
              "    .dataframe tbody tr th:only-of-type {\n",
              "        vertical-align: middle;\n",
              "    }\n",
              "\n",
              "    .dataframe tbody tr th {\n",
              "        vertical-align: top;\n",
              "    }\n",
              "\n",
              "    .dataframe thead th {\n",
              "        text-align: right;\n",
              "    }\n",
              "</style>\n",
              "<table border=\"1\" class=\"dataframe\">\n",
              "  <thead>\n",
              "    <tr style=\"text-align: right;\">\n",
              "      <th></th>\n",
              "      <th>ID</th>\n",
              "      <th>Severity</th>\n",
              "      <th>Time</th>\n",
              "      <th>State</th>\n",
              "      <th>Temperature(F)</th>\n",
              "      <th>Visibility(mi)</th>\n",
              "      <th>Precipitation(in)</th>\n",
              "      <th>Weather_Condition</th>\n",
              "      <th>Sunrise_Sunset</th>\n",
              "      <th>Day_of_Week</th>\n",
              "      <th>Hour_of_Day</th>\n",
              "      <th>POI</th>\n",
              "    </tr>\n",
              "  </thead>\n",
              "  <tbody>\n",
              "    <tr>\n",
              "      <th>0</th>\n",
              "      <td>A-2047758</td>\n",
              "      <td>2</td>\n",
              "      <td>2019-06-12 10:10:56</td>\n",
              "      <td>LA</td>\n",
              "      <td>77.0</td>\n",
              "      <td>10.00</td>\n",
              "      <td>0.00</td>\n",
              "      <td>Fair</td>\n",
              "      <td>Day</td>\n",
              "      <td>Wednesday</td>\n",
              "      <td>10</td>\n",
              "      <td>True</td>\n",
              "    </tr>\n",
              "    <tr>\n",
              "      <th>1</th>\n",
              "      <td>A-4694324</td>\n",
              "      <td>2</td>\n",
              "      <td>2022-12-03 23:37:14</td>\n",
              "      <td>VA</td>\n",
              "      <td>45.0</td>\n",
              "      <td>10.00</td>\n",
              "      <td>0.00</td>\n",
              "      <td>Fair</td>\n",
              "      <td>Night</td>\n",
              "      <td>Saturday</td>\n",
              "      <td>23</td>\n",
              "      <td>False</td>\n",
              "    </tr>\n",
              "    <tr>\n",
              "      <th>2</th>\n",
              "      <td>A-5006183</td>\n",
              "      <td>2</td>\n",
              "      <td>2022-08-20 13:13:00</td>\n",
              "      <td>CA</td>\n",
              "      <td>68.0</td>\n",
              "      <td>10.00</td>\n",
              "      <td>0.00</td>\n",
              "      <td>Fair</td>\n",
              "      <td>Day</td>\n",
              "      <td>Saturday</td>\n",
              "      <td>13</td>\n",
              "      <td>True</td>\n",
              "    </tr>\n",
              "    <tr>\n",
              "      <th>3</th>\n",
              "      <td>A-4237356</td>\n",
              "      <td>2</td>\n",
              "      <td>2022-02-21 17:43:04</td>\n",
              "      <td>MN</td>\n",
              "      <td>27.0</td>\n",
              "      <td>10.00</td>\n",
              "      <td>0.00</td>\n",
              "      <td>Wintry Mix</td>\n",
              "      <td>Day</td>\n",
              "      <td>Monday</td>\n",
              "      <td>17</td>\n",
              "      <td>False</td>\n",
              "    </tr>\n",
              "    <tr>\n",
              "      <th>4</th>\n",
              "      <td>A-6690583</td>\n",
              "      <td>2</td>\n",
              "      <td>2020-12-04 01:46:00</td>\n",
              "      <td>CA</td>\n",
              "      <td>42.0</td>\n",
              "      <td>10.00</td>\n",
              "      <td>0.00</td>\n",
              "      <td>Fair</td>\n",
              "      <td>Night</td>\n",
              "      <td>Friday</td>\n",
              "      <td>1</td>\n",
              "      <td>False</td>\n",
              "    </tr>\n",
              "    <tr>\n",
              "      <th>...</th>\n",
              "      <td>...</td>\n",
              "      <td>...</td>\n",
              "      <td>...</td>\n",
              "      <td>...</td>\n",
              "      <td>...</td>\n",
              "      <td>...</td>\n",
              "      <td>...</td>\n",
              "      <td>...</td>\n",
              "      <td>...</td>\n",
              "      <td>...</td>\n",
              "      <td>...</td>\n",
              "      <td>...</td>\n",
              "    </tr>\n",
              "    <tr>\n",
              "      <th>101041</th>\n",
              "      <td>A-933283</td>\n",
              "      <td>2</td>\n",
              "      <td>2021-08-19 06:48:01</td>\n",
              "      <td>SC</td>\n",
              "      <td>76.0</td>\n",
              "      <td>10.00</td>\n",
              "      <td>0.00</td>\n",
              "      <td>Fair</td>\n",
              "      <td>Night</td>\n",
              "      <td>Thursday</td>\n",
              "      <td>6</td>\n",
              "      <td>False</td>\n",
              "    </tr>\n",
              "    <tr>\n",
              "      <th>101042</th>\n",
              "      <td>A-4280589</td>\n",
              "      <td>2</td>\n",
              "      <td>2022-09-06 09:30:00</td>\n",
              "      <td>DE</td>\n",
              "      <td>71.0</td>\n",
              "      <td>0.75</td>\n",
              "      <td>0.52</td>\n",
              "      <td>Heavy Rain</td>\n",
              "      <td>Day</td>\n",
              "      <td>Tuesday</td>\n",
              "      <td>9</td>\n",
              "      <td>False</td>\n",
              "    </tr>\n",
              "    <tr>\n",
              "      <th>101043</th>\n",
              "      <td>A-2059844</td>\n",
              "      <td>3</td>\n",
              "      <td>2019-06-19 09:20:51</td>\n",
              "      <td>VA</td>\n",
              "      <td>73.0</td>\n",
              "      <td>10.00</td>\n",
              "      <td>0.00</td>\n",
              "      <td>Mostly Cloudy</td>\n",
              "      <td>Day</td>\n",
              "      <td>Wednesday</td>\n",
              "      <td>9</td>\n",
              "      <td>False</td>\n",
              "    </tr>\n",
              "    <tr>\n",
              "      <th>101044</th>\n",
              "      <td>A-708466</td>\n",
              "      <td>3</td>\n",
              "      <td>2022-02-16 06:12:23</td>\n",
              "      <td>IL</td>\n",
              "      <td>46.0</td>\n",
              "      <td>10.00</td>\n",
              "      <td>0.00</td>\n",
              "      <td>Cloudy</td>\n",
              "      <td>Night</td>\n",
              "      <td>Wednesday</td>\n",
              "      <td>6</td>\n",
              "      <td>False</td>\n",
              "    </tr>\n",
              "    <tr>\n",
              "      <th>101045</th>\n",
              "      <td>A-5866055</td>\n",
              "      <td>2</td>\n",
              "      <td>2021-03-23 17:02:30</td>\n",
              "      <td>NaN</td>\n",
              "      <td>NaN</td>\n",
              "      <td>NaN</td>\n",
              "      <td>NaN</td>\n",
              "      <td>NaN</td>\n",
              "      <td>NaN</td>\n",
              "      <td>Tuesday</td>\n",
              "      <td>17</td>\n",
              "      <td>False</td>\n",
              "    </tr>\n",
              "  </tbody>\n",
              "</table>\n",
              "<p>101046 rows × 12 columns</p>\n",
              "</div>\n",
              "    <div class=\"colab-df-buttons\">\n",
              "\n",
              "  <div class=\"colab-df-container\">\n",
              "    <button class=\"colab-df-convert\" onclick=\"convertToInteractive('df-17ae20dd-0745-4e80-b2d3-12c499eecbb7')\"\n",
              "            title=\"Convert this dataframe to an interactive table.\"\n",
              "            style=\"display:none;\">\n",
              "\n",
              "  <svg xmlns=\"http://www.w3.org/2000/svg\" height=\"24px\" viewBox=\"0 -960 960 960\">\n",
              "    <path d=\"M120-120v-720h720v720H120Zm60-500h600v-160H180v160Zm220 220h160v-160H400v160Zm0 220h160v-160H400v160ZM180-400h160v-160H180v160Zm440 0h160v-160H620v160ZM180-180h160v-160H180v160Zm440 0h160v-160H620v160Z\"/>\n",
              "  </svg>\n",
              "    </button>\n",
              "\n",
              "  <style>\n",
              "    .colab-df-container {\n",
              "      display:flex;\n",
              "      gap: 12px;\n",
              "    }\n",
              "\n",
              "    .colab-df-convert {\n",
              "      background-color: #E8F0FE;\n",
              "      border: none;\n",
              "      border-radius: 50%;\n",
              "      cursor: pointer;\n",
              "      display: none;\n",
              "      fill: #1967D2;\n",
              "      height: 32px;\n",
              "      padding: 0 0 0 0;\n",
              "      width: 32px;\n",
              "    }\n",
              "\n",
              "    .colab-df-convert:hover {\n",
              "      background-color: #E2EBFA;\n",
              "      box-shadow: 0px 1px 2px rgba(60, 64, 67, 0.3), 0px 1px 3px 1px rgba(60, 64, 67, 0.15);\n",
              "      fill: #174EA6;\n",
              "    }\n",
              "\n",
              "    .colab-df-buttons div {\n",
              "      margin-bottom: 4px;\n",
              "    }\n",
              "\n",
              "    [theme=dark] .colab-df-convert {\n",
              "      background-color: #3B4455;\n",
              "      fill: #D2E3FC;\n",
              "    }\n",
              "\n",
              "    [theme=dark] .colab-df-convert:hover {\n",
              "      background-color: #434B5C;\n",
              "      box-shadow: 0px 1px 3px 1px rgba(0, 0, 0, 0.15);\n",
              "      filter: drop-shadow(0px 1px 2px rgba(0, 0, 0, 0.3));\n",
              "      fill: #FFFFFF;\n",
              "    }\n",
              "  </style>\n",
              "\n",
              "    <script>\n",
              "      const buttonEl =\n",
              "        document.querySelector('#df-17ae20dd-0745-4e80-b2d3-12c499eecbb7 button.colab-df-convert');\n",
              "      buttonEl.style.display =\n",
              "        google.colab.kernel.accessAllowed ? 'block' : 'none';\n",
              "\n",
              "      async function convertToInteractive(key) {\n",
              "        const element = document.querySelector('#df-17ae20dd-0745-4e80-b2d3-12c499eecbb7');\n",
              "        const dataTable =\n",
              "          await google.colab.kernel.invokeFunction('convertToInteractive',\n",
              "                                                    [key], {});\n",
              "        if (!dataTable) return;\n",
              "\n",
              "        const docLinkHtml = 'Like what you see? Visit the ' +\n",
              "          '<a target=\"_blank\" href=https://colab.research.google.com/notebooks/data_table.ipynb>data table notebook</a>'\n",
              "          + ' to learn more about interactive tables.';\n",
              "        element.innerHTML = '';\n",
              "        dataTable['output_type'] = 'display_data';\n",
              "        await google.colab.output.renderOutput(dataTable, element);\n",
              "        const docLink = document.createElement('div');\n",
              "        docLink.innerHTML = docLinkHtml;\n",
              "        element.appendChild(docLink);\n",
              "      }\n",
              "    </script>\n",
              "  </div>\n",
              "\n",
              "\n",
              "<div id=\"df-440552cc-604f-4825-849a-6451acece1a5\">\n",
              "  <button class=\"colab-df-quickchart\" onclick=\"quickchart('df-440552cc-604f-4825-849a-6451acece1a5')\"\n",
              "            title=\"Suggest charts\"\n",
              "            style=\"display:none;\">\n",
              "\n",
              "<svg xmlns=\"http://www.w3.org/2000/svg\" height=\"24px\"viewBox=\"0 0 24 24\"\n",
              "     width=\"24px\">\n",
              "    <g>\n",
              "        <path d=\"M19 3H5c-1.1 0-2 .9-2 2v14c0 1.1.9 2 2 2h14c1.1 0 2-.9 2-2V5c0-1.1-.9-2-2-2zM9 17H7v-7h2v7zm4 0h-2V7h2v10zm4 0h-2v-4h2v4z\"/>\n",
              "    </g>\n",
              "</svg>\n",
              "  </button>\n",
              "\n",
              "<style>\n",
              "  .colab-df-quickchart {\n",
              "      --bg-color: #E8F0FE;\n",
              "      --fill-color: #1967D2;\n",
              "      --hover-bg-color: #E2EBFA;\n",
              "      --hover-fill-color: #174EA6;\n",
              "      --disabled-fill-color: #AAA;\n",
              "      --disabled-bg-color: #DDD;\n",
              "  }\n",
              "\n",
              "  [theme=dark] .colab-df-quickchart {\n",
              "      --bg-color: #3B4455;\n",
              "      --fill-color: #D2E3FC;\n",
              "      --hover-bg-color: #434B5C;\n",
              "      --hover-fill-color: #FFFFFF;\n",
              "      --disabled-bg-color: #3B4455;\n",
              "      --disabled-fill-color: #666;\n",
              "  }\n",
              "\n",
              "  .colab-df-quickchart {\n",
              "    background-color: var(--bg-color);\n",
              "    border: none;\n",
              "    border-radius: 50%;\n",
              "    cursor: pointer;\n",
              "    display: none;\n",
              "    fill: var(--fill-color);\n",
              "    height: 32px;\n",
              "    padding: 0;\n",
              "    width: 32px;\n",
              "  }\n",
              "\n",
              "  .colab-df-quickchart:hover {\n",
              "    background-color: var(--hover-bg-color);\n",
              "    box-shadow: 0 1px 2px rgba(60, 64, 67, 0.3), 0 1px 3px 1px rgba(60, 64, 67, 0.15);\n",
              "    fill: var(--button-hover-fill-color);\n",
              "  }\n",
              "\n",
              "  .colab-df-quickchart-complete:disabled,\n",
              "  .colab-df-quickchart-complete:disabled:hover {\n",
              "    background-color: var(--disabled-bg-color);\n",
              "    fill: var(--disabled-fill-color);\n",
              "    box-shadow: none;\n",
              "  }\n",
              "\n",
              "  .colab-df-spinner {\n",
              "    border: 2px solid var(--fill-color);\n",
              "    border-color: transparent;\n",
              "    border-bottom-color: var(--fill-color);\n",
              "    animation:\n",
              "      spin 1s steps(1) infinite;\n",
              "  }\n",
              "\n",
              "  @keyframes spin {\n",
              "    0% {\n",
              "      border-color: transparent;\n",
              "      border-bottom-color: var(--fill-color);\n",
              "      border-left-color: var(--fill-color);\n",
              "    }\n",
              "    20% {\n",
              "      border-color: transparent;\n",
              "      border-left-color: var(--fill-color);\n",
              "      border-top-color: var(--fill-color);\n",
              "    }\n",
              "    30% {\n",
              "      border-color: transparent;\n",
              "      border-left-color: var(--fill-color);\n",
              "      border-top-color: var(--fill-color);\n",
              "      border-right-color: var(--fill-color);\n",
              "    }\n",
              "    40% {\n",
              "      border-color: transparent;\n",
              "      border-right-color: var(--fill-color);\n",
              "      border-top-color: var(--fill-color);\n",
              "    }\n",
              "    60% {\n",
              "      border-color: transparent;\n",
              "      border-right-color: var(--fill-color);\n",
              "    }\n",
              "    80% {\n",
              "      border-color: transparent;\n",
              "      border-right-color: var(--fill-color);\n",
              "      border-bottom-color: var(--fill-color);\n",
              "    }\n",
              "    90% {\n",
              "      border-color: transparent;\n",
              "      border-bottom-color: var(--fill-color);\n",
              "    }\n",
              "  }\n",
              "</style>\n",
              "\n",
              "  <script>\n",
              "    async function quickchart(key) {\n",
              "      const quickchartButtonEl =\n",
              "        document.querySelector('#' + key + ' button');\n",
              "      quickchartButtonEl.disabled = true;  // To prevent multiple clicks.\n",
              "      quickchartButtonEl.classList.add('colab-df-spinner');\n",
              "      try {\n",
              "        const charts = await google.colab.kernel.invokeFunction(\n",
              "            'suggestCharts', [key], {});\n",
              "      } catch (error) {\n",
              "        console.error('Error during call to suggestCharts:', error);\n",
              "      }\n",
              "      quickchartButtonEl.classList.remove('colab-df-spinner');\n",
              "      quickchartButtonEl.classList.add('colab-df-quickchart-complete');\n",
              "    }\n",
              "    (() => {\n",
              "      let quickchartButtonEl =\n",
              "        document.querySelector('#df-440552cc-604f-4825-849a-6451acece1a5 button');\n",
              "      quickchartButtonEl.style.display =\n",
              "        google.colab.kernel.accessAllowed ? 'block' : 'none';\n",
              "    })();\n",
              "  </script>\n",
              "</div>\n",
              "\n",
              "  <div id=\"id_b46744f8-4ced-47f4-888b-029bbb221aa3\">\n",
              "    <style>\n",
              "      .colab-df-generate {\n",
              "        background-color: #E8F0FE;\n",
              "        border: none;\n",
              "        border-radius: 50%;\n",
              "        cursor: pointer;\n",
              "        display: none;\n",
              "        fill: #1967D2;\n",
              "        height: 32px;\n",
              "        padding: 0 0 0 0;\n",
              "        width: 32px;\n",
              "      }\n",
              "\n",
              "      .colab-df-generate:hover {\n",
              "        background-color: #E2EBFA;\n",
              "        box-shadow: 0px 1px 2px rgba(60, 64, 67, 0.3), 0px 1px 3px 1px rgba(60, 64, 67, 0.15);\n",
              "        fill: #174EA6;\n",
              "      }\n",
              "\n",
              "      [theme=dark] .colab-df-generate {\n",
              "        background-color: #3B4455;\n",
              "        fill: #D2E3FC;\n",
              "      }\n",
              "\n",
              "      [theme=dark] .colab-df-generate:hover {\n",
              "        background-color: #434B5C;\n",
              "        box-shadow: 0px 1px 3px 1px rgba(0, 0, 0, 0.15);\n",
              "        filter: drop-shadow(0px 1px 2px rgba(0, 0, 0, 0.3));\n",
              "        fill: #FFFFFF;\n",
              "      }\n",
              "    </style>\n",
              "    <button class=\"colab-df-generate\" onclick=\"generateWithVariable('df')\"\n",
              "            title=\"Generate code using this dataframe.\"\n",
              "            style=\"display:none;\">\n",
              "\n",
              "  <svg xmlns=\"http://www.w3.org/2000/svg\" height=\"24px\"viewBox=\"0 0 24 24\"\n",
              "       width=\"24px\">\n",
              "    <path d=\"M7,19H8.4L18.45,9,17,7.55,7,17.6ZM5,21V16.75L18.45,3.32a2,2,0,0,1,2.83,0l1.4,1.43a1.91,1.91,0,0,1,.58,1.4,1.91,1.91,0,0,1-.58,1.4L9.25,21ZM18.45,9,17,7.55Zm-12,3A5.31,5.31,0,0,0,4.9,8.1,5.31,5.31,0,0,0,1,6.5,5.31,5.31,0,0,0,4.9,4.9,5.31,5.31,0,0,0,6.5,1,5.31,5.31,0,0,0,8.1,4.9,5.31,5.31,0,0,0,12,6.5,5.46,5.46,0,0,0,6.5,12Z\"/>\n",
              "  </svg>\n",
              "    </button>\n",
              "    <script>\n",
              "      (() => {\n",
              "      const buttonEl =\n",
              "        document.querySelector('#id_b46744f8-4ced-47f4-888b-029bbb221aa3 button.colab-df-generate');\n",
              "      buttonEl.style.display =\n",
              "        google.colab.kernel.accessAllowed ? 'block' : 'none';\n",
              "\n",
              "      buttonEl.onclick = () => {\n",
              "        google.colab.notebook.generateWithVariable('df');\n",
              "      }\n",
              "      })();\n",
              "    </script>\n",
              "  </div>\n",
              "\n",
              "    </div>\n",
              "  </div>\n"
            ],
            "application/vnd.google.colaboratory.intrinsic+json": {
              "type": "dataframe",
              "variable_name": "df"
            }
          },
          "metadata": {},
          "execution_count": 10
        }
      ]
    },
    {
      "cell_type": "markdown",
      "source": [
        "# **4. Exploratory Data Analysis**"
      ],
      "metadata": {
        "id": "SJYBmKud1OMc"
      }
    },
    {
      "cell_type": "markdown",
      "source": [
        "### **Analysis 1: Time of Day and Severity**\n",
        "\n",
        "\n",
        "---\n",
        "\n"
      ],
      "metadata": {
        "id": "bAUU87Np9uUU"
      }
    },
    {
      "cell_type": "markdown",
      "source": [
        "Preprocessing dataframe to organize a sub df for data used for examining relationship between time of day and accident severity."
      ],
      "metadata": {
        "id": "PQ3ygRdOAC2d"
      }
    },
    {
      "cell_type": "code",
      "source": [
        "time_df = df[['Severity', 'Sunrise_Sunset']]\n",
        "time_df = time_df.dropna()\n",
        "\n",
        "time_df.info()"
      ],
      "metadata": {
        "colab": {
          "base_uri": "https://localhost:8080/"
        },
        "id": "PxHo5TzaAAGS",
        "outputId": "7aa90d4b-9e5a-4073-c5e4-2ca9178b0253"
      },
      "execution_count": 11,
      "outputs": [
        {
          "output_type": "stream",
          "name": "stdout",
          "text": [
            "<class 'pandas.core.frame.DataFrame'>\n",
            "Index: 100743 entries, 0 to 101044\n",
            "Data columns (total 2 columns):\n",
            " #   Column          Non-Null Count   Dtype \n",
            "---  ------          --------------   ----- \n",
            " 0   Severity        100743 non-null  int64 \n",
            " 1   Sunrise_Sunset  100743 non-null  object\n",
            "dtypes: int64(1), object(1)\n",
            "memory usage: 2.3+ MB\n"
          ]
        }
      ]
    },
    {
      "cell_type": "markdown",
      "source": [
        "**Plot:** visualization of time of data vs severity"
      ],
      "metadata": {
        "id": "LIRZ9NM2AX5N"
      }
    },
    {
      "cell_type": "code",
      "source": [
        "sns.countplot(x='Severity', hue='Sunrise_Sunset', data=time_df)\n",
        "plt.title('Level of Severity of Accidents Distributed Between Day VS Night')\n",
        "plt.show()"
      ],
      "metadata": {
        "colab": {
          "base_uri": "https://localhost:8080/",
          "height": 472
        },
        "id": "ZCaRnMGaAdWF",
        "outputId": "b706cacb-553e-403e-d505-052d57082b73"
      },
      "execution_count": 31,
      "outputs": [
        {
          "output_type": "display_data",
          "data": {
            "text/plain": [
              "<Figure size 640x480 with 1 Axes>"
            ],
            "image/png": "[encoded data removed]"
          },
          "metadata": {}
        }
      ]
    },
    {
      "cell_type": "markdown",
      "source": [
        "**Hypothesis Testing**: T-test\n",
        "\n",
        "Null Hypothesis: there is no significant difference in the mean severity of accidents in the day vs night.\n",
        "\n",
        "Alternative Hypothesis: there is a significant difference in the mean severity of accidents in the day vs the night."
      ],
      "metadata": {
        "id": "TH0As1yvAqbz"
      }
    },
    {
      "cell_type": "code",
      "source": [
        "day = time_df[time_df['Sunrise_Sunset'] == 'Day']['Severity']\n",
        "night = time_df[time_df['Sunrise_Sunset'] == 'Night']['Severity']\n",
        "\n",
        "t_stat, p_value = stats.ttest_ind(day, night)\n",
        "\n",
        "print(p_value)\n",
        "print(t_stat)"
      ],
      "metadata": {
        "colab": {
          "base_uri": "https://localhost:8080/"
        },
        "id": "izETafMlA2ar",
        "outputId": "8c054c5e-b187-4ad9-e1fa-bd778db78c85"
      },
      "execution_count": 13,
      "outputs": [
        {
          "output_type": "stream",
          "name": "stdout",
          "text": [
            "0.016270965814169723\n",
            "-2.4028205472755837\n"
          ]
        }
      ]
    },
    {
      "cell_type": "markdown",
      "source": [
        "**Conclusion:** Since p < alpha = 0.05, we reject the null hypothesis. This means there is a significant difference between the severity of accidents in the day vs the night."
      ],
      "metadata": {
        "id": "kPamGnqGA7jM"
      }
    },
    {
      "cell_type": "markdown",
      "source": [
        "### **Analysis 2: Weather and Severity**\n",
        "---\n",
        "\n"
      ],
      "metadata": {
        "id": "PFpdXaCNhG33"
      }
    },
    {
      "cell_type": "markdown",
      "source": [
        "Create sub dataframe that concerns only weather and severity."
      ],
      "metadata": {
        "id": "Y7zAPbR_2QHz"
      }
    },
    {
      "cell_type": "code",
      "source": [
        "# weather_df represents my dataframe with the only the values I will be working with\n",
        "weather_df = df[['ID', 'Severity', 'Weather_Condition']]\n",
        "weather_df = weather_df.dropna()\n",
        "weather_df.head()\n"
      ],
      "metadata": {
        "colab": {
          "base_uri": "https://localhost:8080/",
          "height": 204
        },
        "id": "Y3x5D-TnsOCH",
        "outputId": "d5f1bcac-11d4-4a00-daff-a2767fcf8811"
      },
      "execution_count": 14,
      "outputs": [
        {
          "output_type": "execute_result",
          "data": {
            "text/plain": [
              "          ID  Severity Weather_Condition\n",
              "0  A-2047758         2              Fair\n",
              "1  A-4694324         2              Fair\n",
              "2  A-5006183         2              Fair\n",
              "3  A-4237356         2        Wintry Mix\n",
              "4  A-6690583         2              Fair"
            ],
            "text/html": [
              "\n",
              "  <div id=\"df-b6329754-e2da-432b-ad93-d286ecac63b8\" class=\"colab-df-container\">\n",
              "    <div>\n",
              "<style scoped>\n",
              "    .dataframe tbody tr th:only-of-type {\n",
              "        vertical-align: middle;\n",
              "    }\n",
              "\n",
              "    .dataframe tbody tr th {\n",
              "        vertical-align: top;\n",
              "    }\n",
              "\n",
              "    .dataframe thead th {\n",
              "        text-align: right;\n",
              "    }\n",
              "</style>\n",
              "<table border=\"1\" class=\"dataframe\">\n",
              "  <thead>\n",
              "    <tr style=\"text-align: right;\">\n",
              "      <th></th>\n",
              "      <th>ID</th>\n",
              "      <th>Severity</th>\n",
              "      <th>Weather_Condition</th>\n",
              "    </tr>\n",
              "  </thead>\n",
              "  <tbody>\n",
              "    <tr>\n",
              "      <th>0</th>\n",
              "      <td>A-2047758</td>\n",
              "      <td>2</td>\n",
              "      <td>Fair</td>\n",
              "    </tr>\n",
              "    <tr>\n",
              "      <th>1</th>\n",
              "      <td>A-4694324</td>\n",
              "      <td>2</td>\n",
              "      <td>Fair</td>\n",
              "    </tr>\n",
              "    <tr>\n",
              "      <th>2</th>\n",
              "      <td>A-5006183</td>\n",
              "      <td>2</td>\n",
              "      <td>Fair</td>\n",
              "    </tr>\n",
              "    <tr>\n",
              "      <th>3</th>\n",
              "      <td>A-4237356</td>\n",
              "      <td>2</td>\n",
              "      <td>Wintry Mix</td>\n",
              "    </tr>\n",
              "    <tr>\n",
              "      <th>4</th>\n",
              "      <td>A-6690583</td>\n",
              "      <td>2</td>\n",
              "      <td>Fair</td>\n",
              "    </tr>\n",
              "  </tbody>\n",
              "</table>\n",
              "</div>\n",
              "    <div class=\"colab-df-buttons\">\n",
              "\n",
              "  <div class=\"colab-df-container\">\n",
              "    <button class=\"colab-df-convert\" onclick=\"convertToInteractive('df-b6329754-e2da-432b-ad93-d286ecac63b8')\"\n",
              "            title=\"Convert this dataframe to an interactive table.\"\n",
              "            style=\"display:none;\">\n",
              "\n",
              "  <svg xmlns=\"http://www.w3.org/2000/svg\" height=\"24px\" viewBox=\"0 -960 960 960\">\n",
              "    <path d=\"M120-120v-720h720v720H120Zm60-500h600v-160H180v160Zm220 220h160v-160H400v160Zm0 220h160v-160H400v160ZM180-400h160v-160H180v160Zm440 0h160v-160H620v160ZM180-180h160v-160H180v160Zm440 0h160v-160H620v160Z\"/>\n",
              "  </svg>\n",
              "    </button>\n",
              "\n",
              "  <style>\n",
              "    .colab-df-container {\n",
              "      display:flex;\n",
              "      gap: 12px;\n",
              "    }\n",
              "\n",
              "    .colab-df-convert {\n",
              "      background-color: #E8F0FE;\n",
              "      border: none;\n",
              "      border-radius: 50%;\n",
              "      cursor: pointer;\n",
              "      display: none;\n",
              "      fill: #1967D2;\n",
              "      height: 32px;\n",
              "      padding: 0 0 0 0;\n",
              "      width: 32px;\n",
              "    }\n",
              "\n",
              "    .colab-df-convert:hover {\n",
              "      background-color: #E2EBFA;\n",
              "      box-shadow: 0px 1px 2px rgba(60, 64, 67, 0.3), 0px 1px 3px 1px rgba(60, 64, 67, 0.15);\n",
              "      fill: #174EA6;\n",
              "    }\n",
              "\n",
              "    .colab-df-buttons div {\n",
              "      margin-bottom: 4px;\n",
              "    }\n",
              "\n",
              "    [theme=dark] .colab-df-convert {\n",
              "      background-color: #3B4455;\n",
              "      fill: #D2E3FC;\n",
              "    }\n",
              "\n",
              "    [theme=dark] .colab-df-convert:hover {\n",
              "      background-color: #434B5C;\n",
              "      box-shadow: 0px 1px 3px 1px rgba(0, 0, 0, 0.15);\n",
              "      filter: drop-shadow(0px 1px 2px rgba(0, 0, 0, 0.3));\n",
              "      fill: #FFFFFF;\n",
              "    }\n",
              "  </style>\n",
              "\n",
              "    <script>\n",
              "      const buttonEl =\n",
              "        document.querySelector('#df-b6329754-e2da-432b-ad93-d286ecac63b8 button.colab-df-convert');\n",
              "      buttonEl.style.display =\n",
              "        google.colab.kernel.accessAllowed ? 'block' : 'none';\n",
              "\n",
              "      async function convertToInteractive(key) {\n",
              "        const element = document.querySelector('#df-b6329754-e2da-432b-ad93-d286ecac63b8');\n",
              "        const dataTable =\n",
              "          await google.colab.kernel.invokeFunction('convertToInteractive',\n",
              "                                                    [key], {});\n",
              "        if (!dataTable) return;\n",
              "\n",
              "        const docLinkHtml = 'Like what you see? Visit the ' +\n",
              "          '<a target=\"_blank\" href=https://colab.research.google.com/notebooks/data_table.ipynb>data table notebook</a>'\n",
              "          + ' to learn more about interactive tables.';\n",
              "        element.innerHTML = '';\n",
              "        dataTable['output_type'] = 'display_data';\n",
              "        await google.colab.output.renderOutput(dataTable, element);\n",
              "        const docLink = document.createElement('div');\n",
              "        docLink.innerHTML = docLinkHtml;\n",
              "        element.appendChild(docLink);\n",
              "      }\n",
              "    </script>\n",
              "  </div>\n",
              "\n",
              "\n",
              "<div id=\"df-1b5e22a0-b9d5-4651-a5d4-4e71bff91a91\">\n",
              "  <button class=\"colab-df-quickchart\" onclick=\"quickchart('df-1b5e22a0-b9d5-4651-a5d4-4e71bff91a91')\"\n",
              "            title=\"Suggest charts\"\n",
              "            style=\"display:none;\">\n",
              "\n",
              "<svg xmlns=\"http://www.w3.org/2000/svg\" height=\"24px\"viewBox=\"0 0 24 24\"\n",
              "     width=\"24px\">\n",
              "    <g>\n",
              "        <path d=\"M19 3H5c-1.1 0-2 .9-2 2v14c0 1.1.9 2 2 2h14c1.1 0 2-.9 2-2V5c0-1.1-.9-2-2-2zM9 17H7v-7h2v7zm4 0h-2V7h2v10zm4 0h-2v-4h2v4z\"/>\n",
              "    </g>\n",
              "</svg>\n",
              "  </button>\n",
              "\n",
              "<style>\n",
              "  .colab-df-quickchart {\n",
              "      --bg-color: #E8F0FE;\n",
              "      --fill-color: #1967D2;\n",
              "      --hover-bg-color: #E2EBFA;\n",
              "      --hover-fill-color: #174EA6;\n",
              "      --disabled-fill-color: #AAA;\n",
              "      --disabled-bg-color: #DDD;\n",
              "  }\n",
              "\n",
              "  [theme=dark] .colab-df-quickchart {\n",
              "      --bg-color: #3B4455;\n",
              "      --fill-color: #D2E3FC;\n",
              "      --hover-bg-color: #434B5C;\n",
              "      --hover-fill-color: #FFFFFF;\n",
              "      --disabled-bg-color: #3B4455;\n",
              "      --disabled-fill-color: #666;\n",
              "  }\n",
              "\n",
              "  .colab-df-quickchart {\n",
              "    background-color: var(--bg-color);\n",
              "    border: none;\n",
              "    border-radius: 50%;\n",
              "    cursor: pointer;\n",
              "    display: none;\n",
              "    fill: var(--fill-color);\n",
              "    height: 32px;\n",
              "    padding: 0;\n",
              "    width: 32px;\n",
              "  }\n",
              "\n",
              "  .colab-df-quickchart:hover {\n",
              "    background-color: var(--hover-bg-color);\n",
              "    box-shadow: 0 1px 2px rgba(60, 64, 67, 0.3), 0 1px 3px 1px rgba(60, 64, 67, 0.15);\n",
              "    fill: var(--button-hover-fill-color);\n",
              "  }\n",
              "\n",
              "  .colab-df-quickchart-complete:disabled,\n",
              "  .colab-df-quickchart-complete:disabled:hover {\n",
              "    background-color: var(--disabled-bg-color);\n",
              "    fill: var(--disabled-fill-color);\n",
              "    box-shadow: none;\n",
              "  }\n",
              "\n",
              "  .colab-df-spinner {\n",
              "    border: 2px solid var(--fill-color);\n",
              "    border-color: transparent;\n",
              "    border-bottom-color: var(--fill-color);\n",
              "    animation:\n",
              "      spin 1s steps(1) infinite;\n",
              "  }\n",
              "\n",
              "  @keyframes spin {\n",
              "    0% {\n",
              "      border-color: transparent;\n",
              "      border-bottom-color: var(--fill-color);\n",
              "      border-left-color: var(--fill-color);\n",
              "    }\n",
              "    20% {\n",
              "      border-color: transparent;\n",
              "      border-left-color: var(--fill-color);\n",
              "      border-top-color: var(--fill-color);\n",
              "    }\n",
              "    30% {\n",
              "      border-color: transparent;\n",
              "      border-left-color: var(--fill-color);\n",
              "      border-top-color: var(--fill-color);\n",
              "      border-right-color: var(--fill-color);\n",
              "    }\n",
              "    40% {\n",
              "      border-color: transparent;\n",
              "      border-right-color: var(--fill-color);\n",
              "      border-top-color: var(--fill-color);\n",
              "    }\n",
              "    60% {\n",
              "      border-color: transparent;\n",
              "      border-right-color: var(--fill-color);\n",
              "    }\n",
              "    80% {\n",
              "      border-color: transparent;\n",
              "      border-right-color: var(--fill-color);\n",
              "      border-bottom-color: var(--fill-color);\n",
              "    }\n",
              "    90% {\n",
              "      border-color: transparent;\n",
              "      border-bottom-color: var(--fill-color);\n",
              "    }\n",
              "  }\n",
              "</style>\n",
              "\n",
              "  <script>\n",
              "    async function quickchart(key) {\n",
              "      const quickchartButtonEl =\n",
              "        document.querySelector('#' + key + ' button');\n",
              "      quickchartButtonEl.disabled = true;  // To prevent multiple clicks.\n",
              "      quickchartButtonEl.classList.add('colab-df-spinner');\n",
              "      try {\n",
              "        const charts = await google.colab.kernel.invokeFunction(\n",
              "            'suggestCharts', [key], {});\n",
              "      } catch (error) {\n",
              "        console.error('Error during call to suggestCharts:', error);\n",
              "      }\n",
              "      quickchartButtonEl.classList.remove('colab-df-spinner');\n",
              "      quickchartButtonEl.classList.add('colab-df-quickchart-complete');\n",
              "    }\n",
              "    (() => {\n",
              "      let quickchartButtonEl =\n",
              "        document.querySelector('#df-1b5e22a0-b9d5-4651-a5d4-4e71bff91a91 button');\n",
              "      quickchartButtonEl.style.display =\n",
              "        google.colab.kernel.accessAllowed ? 'block' : 'none';\n",
              "    })();\n",
              "  </script>\n",
              "</div>\n",
              "\n",
              "    </div>\n",
              "  </div>\n"
            ],
            "application/vnd.google.colaboratory.intrinsic+json": {
              "type": "dataframe",
              "variable_name": "weather_df",
              "summary": "{\n  \"name\": \"weather_df\",\n  \"rows\": 98769,\n  \"fields\": [\n    {\n      \"column\": \"ID\",\n      \"properties\": {\n        \"dtype\": \"string\",\n        \"num_unique_values\": 98769,\n        \"samples\": [\n          \"A-3793377\",\n          \"A-3594597\",\n          \"A-7021939\"\n        ],\n        \"semantic_type\": \"\",\n        \"description\": \"\"\n      }\n    },\n    {\n      \"column\": \"Severity\",\n      \"properties\": {\n        \"dtype\": \"number\",\n        \"std\": 0,\n        \"min\": 1,\n        \"max\": 4,\n        \"num_unique_values\": 4,\n        \"samples\": [\n          3,\n          1,\n          2\n        ],\n        \"semantic_type\": \"\",\n        \"description\": \"\"\n      }\n    },\n    {\n      \"column\": \"Weather_Condition\",\n      \"properties\": {\n        \"dtype\": \"category\",\n        \"num_unique_values\": 89,\n        \"samples\": [\n          \"Rain / Windy\",\n          \"Snow and Sleet\",\n          \"Shallow Fog\"\n        ],\n        \"semantic_type\": \"\",\n        \"description\": \"\"\n      }\n    }\n  ]\n}"
            }
          },
          "metadata": {},
          "execution_count": 14
        }
      ]
    },
    {
      "cell_type": "markdown",
      "source": [
        "\n",
        "\n",
        "**Preprocess:** Map all precipitation, cloudy, and low visibility related weather conditions together."
      ],
      "metadata": {
        "id": "hVQAv8nGg8b8"
      }
    },
    {
      "cell_type": "code",
      "source": [
        "# Precipitation Conditions\n",
        "precipitation_conditions = ['rain', 'shower', 'drizzle', 'storm', 'thunder', 'mist', 'snow', 'sleet', 'hail', 'wintry', 'ice', 'precipitation']\n",
        "def map_to_precipitation(condition):\n",
        "    # Check if any of the keywords are in the condition (case insensitive)\n",
        "    if any(keyword in condition.lower() for keyword in precipitation_conditions):\n",
        "        return 'Precipitation'\n",
        "    else:\n",
        "        return condition\n",
        "weather_df['Weather_Condition'] = weather_df['Weather_Condition'].apply(map_to_precipitation)\n",
        "\n",
        "# Cloudy Conditions\n",
        "cloudy_conditions = ['cloud', 'overcast']\n",
        "def map_to_cloudy(condition):\n",
        "    # Check if any of the keywords are in the condition (case insensitive)\n",
        "    if any(keyword in condition.lower() for keyword in cloudy_conditions):\n",
        "        return 'Cloudy'\n",
        "    else:\n",
        "        return condition\n",
        "weather_df['Weather_Condition'] = weather_df['Weather_Condition'].apply(map_to_cloudy)\n",
        "\n",
        "# Low Visibility Conditions\n",
        "low_vis_conditions = ['fog', 'haze', 'dust', 'smoke', 'ash', 'sand','tornado', 'squalls']\n",
        "def map_to_low_vis(condition):\n",
        "    # Check if any of the keywords are in the condition (case insensitive)\n",
        "    if any(keyword in condition.lower() for keyword in low_vis_conditions):\n",
        "        return 'Low Visibility'\n",
        "    else:\n",
        "        return condition\n",
        "weather_df['Weather_Condition'] = weather_df['Weather_Condition'].apply(map_to_low_vis)\n",
        "\n",
        "# Fair Conditions\n",
        "fair_conditions = ['fair', 'clear']\n",
        "def map_to_fair(condition):\n",
        "    # Check if any of the keywords are in the condition (case insensitive)\n",
        "    if any(keyword in condition.lower() for keyword in fair_conditions):\n",
        "        return 'Fair'\n",
        "    else:\n",
        "        return condition\n",
        "weather_df['Weather_Condition'] = weather_df['Weather_Condition'].apply(map_to_fair)"
      ],
      "metadata": {
        "id": "Gb7iqBjx_xrh"
      },
      "execution_count": 15,
      "outputs": []
    },
    {
      "cell_type": "markdown",
      "source": [
        "**Hypothesis Test: Kruskal-Wallis H Test**\n",
        "\n",
        "\n",
        "Null Hypothesis: The seversity of accident is the same across all weather conditions.\n",
        "\n",
        "Alternative Hypothesis: At least one weather condition has a different distribution of severity ranks.\n",
        "\n",
        "Alpha: 0.05"
      ],
      "metadata": {
        "id": "QWgQZJUGHx9-"
      }
    },
    {
      "cell_type": "code",
      "source": [
        "# Perform Kruskal-Wallis Test\n",
        "kruskal_result = stats.kruskal(\n",
        "    weather_df[weather_df['Weather_Condition'] == 'Fair']['Severity'],\n",
        "    weather_df[weather_df['Weather_Condition'] == 'Cloudy']['Severity'],\n",
        "    weather_df[weather_df['Weather_Condition'] == 'Precipitation']['Severity'],\n",
        "    weather_df[weather_df['Weather_Condition'] == 'Low Visibility']['Severity']\n",
        ")\n",
        "\n",
        "print(kruskal_result)"
      ],
      "metadata": {
        "colab": {
          "base_uri": "https://localhost:8080/"
        },
        "id": "uWf_LYOEGYBB",
        "outputId": "c29ffd49-1fc9-4f49-8385-7604922d1e25"
      },
      "execution_count": 16,
      "outputs": [
        {
          "output_type": "stream",
          "name": "stdout",
          "text": [
            "KruskalResult(statistic=395.56608590943495, pvalue=2.0209668520030872e-85)\n"
          ]
        }
      ]
    },
    {
      "cell_type": "markdown",
      "source": [
        "**Interpretation:** Since the p-value of 0.0 is less than our threshold of 0.05, that means we reject the null hypothesis, and at least one of the weather conditions does have a different distribution.\n",
        "\n",
        "The Mann-Whitney U Test will be used as a post-hoc test to determine which weather condition had a different distribution."
      ],
      "metadata": {
        "id": "Yk9URmaIHxKg"
      }
    },
    {
      "cell_type": "code",
      "source": [
        "conditions = weather_df['Weather_Condition'].unique()\n",
        "\n",
        "# Create an empty list to store results\n",
        "p_values = []\n",
        "\n",
        "# Perform pairwise comparisons (Mann-Whitney U test)\n",
        "for cond1, cond2 in combinations(conditions, 2):\n",
        "    group1 = weather_df[weather_df['Weather_Condition'] == cond1]['Severity']\n",
        "    group2 = weather_df[weather_df['Weather_Condition'] == cond2]['Severity']\n",
        "\n",
        "    # Perform the Mann-Whitney U test\n",
        "    stat, p_value = mannwhitneyu(group1, group2, alternative='two-sided')\n",
        "\n",
        "    # Store the results in a list\n",
        "    p_values.append((cond1, cond2, p_value))\n",
        "\n",
        "# Convert results into a DataFrame\n",
        "pairwise_results = pd.DataFrame(p_values, columns=['Condition 1', 'Condition 2', 'p-value'])\n",
        "\n",
        "# Apply Bonferroni correction for multiple comparisons\n",
        "pairwise_results['p-adjusted'] = multitest.multipletests(pairwise_results['p-value'], method='bonferroni')[1]\n",
        "\n",
        "# Display the results\n",
        "print(pairwise_results)"
      ],
      "metadata": {
        "colab": {
          "base_uri": "https://localhost:8080/"
        },
        "id": "1Bi-6O-1JP-V",
        "outputId": "30a5196e-d903-4191-97f5-ae5b9f30a348"
      },
      "execution_count": 17,
      "outputs": [
        {
          "output_type": "stream",
          "name": "stdout",
          "text": [
            "     Condition 1     Condition 2       p-value    p-adjusted\n",
            "0           Fair   Precipitation  4.210090e-36  2.526054e-35\n",
            "1           Fair          Cloudy  1.435188e-75  8.611125e-75\n",
            "2           Fair  Low Visibility  8.826114e-01  1.000000e+00\n",
            "3  Precipitation          Cloudy  5.058679e-01  1.000000e+00\n",
            "4  Precipitation  Low Visibility  4.622715e-09  2.773629e-08\n",
            "5         Cloudy  Low Visibility  3.279177e-09  1.967506e-08\n"
          ]
        }
      ]
    },
    {
      "cell_type": "markdown",
      "source": [
        "**Conclusion:** The relationship between Fair/Low Visibility and Precipitation/Cloudy don't have different distributions because their p-values are 0.2 and 0.15 respectively, which are both > 0.05. However, every other pair is under our threshold, meaning they reject the null hypothesis and have different severity distributions from each other.\n",
        "\n",
        "**Plot:** Scattorplot will be used to get a visualisation of distributions."
      ],
      "metadata": {
        "id": "S2_DyBVVKGcn"
      }
    },
    {
      "cell_type": "code",
      "source": [
        "# Filter the dataframe for the relevant weather conditions\n",
        "conditions = ['Cloudy', 'Precipitation', 'Fair', 'Low Visibility']\n",
        "filtered_data = weather_df[weather_df['Weather_Condition'].isin(conditions)]\n",
        "\n",
        "# Count occurrences of each severity level for each weather condition\n",
        "counts = filtered_data.groupby(['Weather_Condition', 'Severity']).size().unstack(fill_value=0)\n",
        "\n",
        "# Calculate percentages\n",
        "percentage_counts = counts.div(counts.sum(axis=1), axis=0) * 100\n",
        "\n",
        "# Reset the index to long format for seaborn\n",
        "percentage_data = percentage_counts.reset_index().melt(id_vars='Weather_Condition', var_name='Severity', value_name='Percentage')\n",
        "\n",
        "# Create a bar plot for percentages\n",
        "plt.figure(figsize=(10, 6))\n",
        "sns.barplot(x='Severity', y='Percentage', hue='Weather_Condition', data=percentage_data)\n",
        "\n",
        "# Add labels and title\n",
        "plt.xlabel('Severity Level')\n",
        "plt.ylabel('Percentage (%)')\n",
        "plt.title('Percentage of Severity Levels for Different Weather Conditions')\n",
        "\n",
        "# Show the plot\n",
        "plt.legend(title='Weather Condition')\n",
        "plt.show()"
      ],
      "metadata": {
        "id": "s8yi51TQKs2S",
        "colab": {
          "base_uri": "https://localhost:8080/",
          "height": 520
        },
        "outputId": "75fba582-359f-4d7c-fdf1-b043e50d4988"
      },
      "execution_count": 32,
      "outputs": [
        {
          "output_type": "display_data",
          "data": {
            "text/plain": [
              "<Figure size 1000x600 with 1 Axes>"
            ],
            "image/png": "[encoded data removed]"
          },
          "metadata": {}
        }
      ]
    },
    {
      "cell_type": "markdown",
      "source": [
        "### **Analysis 3: Location (By State) and Severity**\n",
        "\n",
        "\n",
        "---\n",
        "\n",
        "**Hypothesis Test:** Chi-Squared Test"
      ],
      "metadata": {
        "id": "Q_zQho8kmaFk"
      }
    },
    {
      "cell_type": "markdown",
      "source": [
        "Null Hypothesis (H₀): There is no association between the state where an accident occurs and the severity of the accident. The two variables are independent.\n",
        "\n",
        "Alternative Hypothesis (H₁): There is a significant association between the state and the severity of the accident. The two variables are not independent."
      ],
      "metadata": {
        "id": "jr91GRe2p_OZ"
      }
    },
    {
      "cell_type": "code",
      "source": [
        "import pandas as pd\n",
        "from scipy.stats import chi2_contingency\n",
        "import seaborn as sns\n",
        "import matplotlib.pyplot as plt\n",
        "\n",
        "contingency_table = pd.crosstab(df['State'], df['Severity'])\n",
        "\n",
        "# Perform the Chi-Square test\n",
        "chi2, p, dof, expected = stats.chi2_contingency(contingency_table)\n",
        "\n",
        "# Print a concise interpretation\n",
        "print(f\"Chi-Square Statistic: {chi2}\")\n",
        "print(f\"P-value: {p}\")\n",
        "print(f\"Degrees of Freedom: {dof}\")\n",
        "\n",
        "if p < 0.05:\n",
        "    print(\"Reject the null hypothesis – There is a significant association between state and severity of accidents.\")\n",
        "else:\n",
        "    print(\"Fail to reject the null hypothesis – No significant association between state and severity of accidents.\")"
      ],
      "metadata": {
        "id": "uLEpzRSWmhHm",
        "colab": {
          "base_uri": "https://localhost:8080/"
        },
        "outputId": "f1df32a8-541c-44c2-f785-f9baf242149f"
      },
      "execution_count": 19,
      "outputs": [
        {
          "output_type": "stream",
          "name": "stdout",
          "text": [
            "Chi-Square Statistic: 6436.232099878778\n",
            "P-value: 0.0\n",
            "Degrees of Freedom: 144\n",
            "Reject the null hypothesis – There is a significant association between state and severity of accidents.\n"
          ]
        }
      ]
    },
    {
      "cell_type": "markdown",
      "source": [
        "**Plot:**"
      ],
      "metadata": {
        "id": "guY37lVx4Jen"
      }
    },
    {
      "cell_type": "code",
      "source": [
        "import matplotlib.pyplot as plt\n",
        "import seaborn as sns\n",
        "\n",
        "severity_counts = df.groupby(['State', 'Severity']).size().unstack()\n",
        "\n",
        "severity_counts.plot(kind='bar', stacked=True, figsize=(12, 9), colormap='viridis')\n",
        "\n",
        "plt.xlabel('State')\n",
        "plt.ylabel('Count of Accidents')\n",
        "plt.title('Comparison of Traffic Accident Severity Across States')\n",
        "plt.xticks(rotation=45, ha=\"right\")\n",
        "plt.legend(title='Severity Level', bbox_to_anchor=(1.05, 1), loc='upper left')\n",
        "\n",
        "plt.tight_layout()\n",
        "plt.show()"
      ],
      "metadata": {
        "id": "v9ZMQtgmtBwo",
        "colab": {
          "base_uri": "https://localhost:8080/",
          "height": 596
        },
        "outputId": "a14f7c81-0b84-404d-8052-6e5d16419824"
      },
      "execution_count": 33,
      "outputs": [
        {
          "output_type": "display_data",
          "data": {
            "text/plain": [
              "<Figure size 1200x900 with 1 Axes>"
            ],
            "image/png": "[encoded data removed]"
          },
          "metadata": {}
        }
      ]
    },
    {
      "cell_type": "markdown",
      "source": [
        "**Conclusion:**\n",
        "\n",
        "The test returned a Chi-square statistic of chi2 with a p-value of p. Since the p-value is less than our threshold of 0.05, we reject the null hypothesis and conclude that there is a significant association between the state in which an accident occurs and the severity of that accident. This suggests that accident severity may vary by state."
      ],
      "metadata": {
        "id": "Prkjpb53qE5-"
      }
    },
    {
      "cell_type": "markdown",
      "source": [
        "# **5. Primary Analysis**"
      ],
      "metadata": {
        "id": "wGMb622l4d_c"
      }
    },
    {
      "cell_type": "markdown",
      "source": [
        "To answer the key questions, the machine learning technique used will be Random Forest Classifier using multi-class classification with Weather_Condtion, Hour_of_Day, and State as the input and Severity as the output.\n",
        "\n",
        "Random Forest Classification will be able to handle non-linear and complex relationships between the three separate inputs. It will also provide feature importance information to answer the question of which feature is most important for determining and preventing traffic accidents."
      ],
      "metadata": {
        "id": "DvcKvNrHOEY7"
      }
    },
    {
      "cell_type": "markdown",
      "source": [
        "**Prepare Data**"
      ],
      "metadata": {
        "id": "EI_y9R9pO7pW"
      }
    },
    {
      "cell_type": "code",
      "source": [
        "from sklearn.preprocessing import LabelEncoder\n",
        "\n",
        "# Encode Weather_Condition and State\n",
        "weather_encoder = LabelEncoder()\n",
        "state_encoder = LabelEncoder()\n",
        "df['Weather_Condition'] = weather_df['Weather_Condition']\n",
        "df['Weather_Condition'] = weather_encoder.fit_transform(df['Weather_Condition'])\n",
        "df['State'] = state_encoder.fit_transform(df['State'])"
      ],
      "metadata": {
        "id": "gTOmlojBODZM"
      },
      "execution_count": 21,
      "outputs": []
    },
    {
      "cell_type": "markdown",
      "source": [
        "**Defining X and y**"
      ],
      "metadata": {
        "id": "xEsdIFawPAlS"
      }
    },
    {
      "cell_type": "code",
      "source": [
        "X = df[['Weather_Condition', 'Hour_of_Day', 'State']]\n",
        "y = df['Severity']"
      ],
      "metadata": {
        "id": "Sw8yCGT5OxY4"
      },
      "execution_count": 22,
      "outputs": []
    },
    {
      "cell_type": "markdown",
      "source": [
        "**Split Data**"
      ],
      "metadata": {
        "id": "qWHXPZkePRXt"
      }
    },
    {
      "cell_type": "code",
      "source": [
        "from sklearn.model_selection import train_test_split\n",
        "\n",
        "X_train, X_test, y_train, y_test = train_test_split(X, y, test_size=0.2, random_state=42)\n"
      ],
      "metadata": {
        "id": "oBfTDTvSOzRk"
      },
      "execution_count": 23,
      "outputs": []
    },
    {
      "cell_type": "markdown",
      "source": [
        "**Train Model**"
      ],
      "metadata": {
        "id": "e7PQdukFPVRZ"
      }
    },
    {
      "cell_type": "code",
      "source": [
        "from sklearn.ensemble import RandomForestClassifier\n",
        "\n",
        "clf = RandomForestClassifier(class_weight='balanced', random_state=42)\n",
        "clf.fit(X_train, y_train)"
      ],
      "metadata": {
        "colab": {
          "base_uri": "https://localhost:8080/",
          "height": 80
        },
        "id": "M0O4H2UKO2qc",
        "outputId": "790b5fe3-b310-4d4b-86be-cb3e40deeb4f"
      },
      "execution_count": 24,
      "outputs": [
        {
          "output_type": "execute_result",
          "data": {
            "text/plain": [
              "RandomForestClassifier(class_weight='balanced', random_state=42)"
            ],
            "text/html": [
              "<style>#sk-container-id-1 {\n",
              "  /* Definition of color scheme common for light and dark mode */\n",
              "  --sklearn-color-text: black;\n",
              "  --sklearn-color-line: gray;\n",
              "  /* Definition of color scheme for unfitted estimators */\n",
              "  --sklearn-color-unfitted-level-0: #fff5e6;\n",
              "  --sklearn-color-unfitted-level-1: #f6e4d2;\n",
              "  --sklearn-color-unfitted-level-2: #ffe0b3;\n",
              "  --sklearn-color-unfitted-level-3: chocolate;\n",
              "  /* Definition of color scheme for fitted estimators */\n",
              "  --sklearn-color-fitted-level-0: #f0f8ff;\n",
              "  --sklearn-color-fitted-level-1: #d4ebff;\n",
              "  --sklearn-color-fitted-level-2: #b3dbfd;\n",
              "  --sklearn-color-fitted-level-3: cornflowerblue;\n",
              "\n",
              "  /* Specific color for light theme */\n",
              "  --sklearn-color-text-on-default-background: var(--sg-text-color, var(--theme-code-foreground, var(--jp-content-font-color1, black)));\n",
              "  --sklearn-color-background: var(--sg-background-color, var(--theme-background, var(--jp-layout-color0, white)));\n",
              "  --sklearn-color-border-box: var(--sg-text-color, var(--theme-code-foreground, var(--jp-content-font-color1, black)));\n",
              "  --sklearn-color-icon: #696969;\n",
              "\n",
              "  @media (prefers-color-scheme: dark) {\n",
              "    /* Redefinition of color scheme for dark theme */\n",
              "    --sklearn-color-text-on-default-background: var(--sg-text-color, var(--theme-code-foreground, var(--jp-content-font-color1, white)));\n",
              "    --sklearn-color-background: var(--sg-background-color, var(--theme-background, var(--jp-layout-color0, #111)));\n",
              "    --sklearn-color-border-box: var(--sg-text-color, var(--theme-code-foreground, var(--jp-content-font-color1, white)));\n",
              "    --sklearn-color-icon: #878787;\n",
              "  }\n",
              "}\n",
              "\n",
              "#sk-container-id-1 {\n",
              "  color: var(--sklearn-color-text);\n",
              "}\n",
              "\n",
              "#sk-container-id-1 pre {\n",
              "  padding: 0;\n",
              "}\n",
              "\n",
              "#sk-container-id-1 input.sk-hidden--visually {\n",
              "  border: 0;\n",
              "  clip: rect(1px 1px 1px 1px);\n",
              "  clip: rect(1px, 1px, 1px, 1px);\n",
              "  height: 1px;\n",
              "  margin: -1px;\n",
              "  overflow: hidden;\n",
              "  padding: 0;\n",
              "  position: absolute;\n",
              "  width: 1px;\n",
              "}\n",
              "\n",
              "#sk-container-id-1 div.sk-dashed-wrapped {\n",
              "  border: 1px dashed var(--sklearn-color-line);\n",
              "  margin: 0 0.4em 0.5em 0.4em;\n",
              "  box-sizing: border-box;\n",
              "  padding-bottom: 0.4em;\n",
              "  background-color: var(--sklearn-color-background);\n",
              "}\n",
              "\n",
              "#sk-container-id-1 div.sk-container {\n",
              "  /* jupyter's `normalize.less` sets `[hidden] { display: none; }`\n",
              "     but bootstrap.min.css set `[hidden] { display: none !important; }`\n",
              "     so we also need the `!important` here to be able to override the\n",
              "     default hidden behavior on the sphinx rendered scikit-learn.org.\n",
              "     See: https://github.com/scikit-learn/scikit-learn/issues/21755 */\n",
              "  display: inline-block !important;\n",
              "  position: relative;\n",
              "}\n",
              "\n",
              "#sk-container-id-1 div.sk-text-repr-fallback {\n",
              "  display: none;\n",
              "}\n",
              "\n",
              "div.sk-parallel-item,\n",
              "div.sk-serial,\n",
              "div.sk-item {\n",
              "  /* draw centered vertical line to link estimators */\n",
              "  background-image: linear-gradient(var(--sklearn-color-text-on-default-background), var(--sklearn-color-text-on-default-background));\n",
              "  background-size: 2px 100%;\n",
              "  background-repeat: no-repeat;\n",
              "  background-position: center center;\n",
              "}\n",
              "\n",
              "/* Parallel-specific style estimator block */\n",
              "\n",
              "#sk-container-id-1 div.sk-parallel-item::after {\n",
              "  content: \"\";\n",
              "  width: 100%;\n",
              "  border-bottom: 2px solid var(--sklearn-color-text-on-default-background);\n",
              "  flex-grow: 1;\n",
              "}\n",
              "\n",
              "#sk-container-id-1 div.sk-parallel {\n",
              "  display: flex;\n",
              "  align-items: stretch;\n",
              "  justify-content: center;\n",
              "  background-color: var(--sklearn-color-background);\n",
              "  position: relative;\n",
              "}\n",
              "\n",
              "#sk-container-id-1 div.sk-parallel-item {\n",
              "  display: flex;\n",
              "  flex-direction: column;\n",
              "}\n",
              "\n",
              "#sk-container-id-1 div.sk-parallel-item:first-child::after {\n",
              "  align-self: flex-end;\n",
              "  width: 50%;\n",
              "}\n",
              "\n",
              "#sk-container-id-1 div.sk-parallel-item:last-child::after {\n",
              "  align-self: flex-start;\n",
              "  width: 50%;\n",
              "}\n",
              "\n",
              "#sk-container-id-1 div.sk-parallel-item:only-child::after {\n",
              "  width: 0;\n",
              "}\n",
              "\n",
              "/* Serial-specific style estimator block */\n",
              "\n",
              "#sk-container-id-1 div.sk-serial {\n",
              "  display: flex;\n",
              "  flex-direction: column;\n",
              "  align-items: center;\n",
              "  background-color: var(--sklearn-color-background);\n",
              "  padding-right: 1em;\n",
              "  padding-left: 1em;\n",
              "}\n",
              "\n",
              "\n",
              "/* Toggleable style: style used for estimator/Pipeline/ColumnTransformer box that is\n",
              "clickable and can be expanded/collapsed.\n",
              "- Pipeline and ColumnTransformer use this feature and define the default style\n",
              "- Estimators will overwrite some part of the style using the `sk-estimator` class\n",
              "*/\n",
              "\n",
              "/* Pipeline and ColumnTransformer style (default) */\n",
              "\n",
              "#sk-container-id-1 div.sk-toggleable {\n",
              "  /* Default theme specific background. It is overwritten whether we have a\n",
              "  specific estimator or a Pipeline/ColumnTransformer */\n",
              "  background-color: var(--sklearn-color-background);\n",
              "}\n",
              "\n",
              "/* Toggleable label */\n",
              "#sk-container-id-1 label.sk-toggleable__label {\n",
              "  cursor: pointer;\n",
              "  display: block;\n",
              "  width: 100%;\n",
              "  margin-bottom: 0;\n",
              "  padding: 0.5em;\n",
              "  box-sizing: border-box;\n",
              "  text-align: center;\n",
              "}\n",
              "\n",
              "#sk-container-id-1 label.sk-toggleable__label-arrow:before {\n",
              "  /* Arrow on the left of the label */\n",
              "  content: \"▸\";\n",
              "  float: left;\n",
              "  margin-right: 0.25em;\n",
              "  color: var(--sklearn-color-icon);\n",
              "}\n",
              "\n",
              "#sk-container-id-1 label.sk-toggleable__label-arrow:hover:before {\n",
              "  color: var(--sklearn-color-text);\n",
              "}\n",
              "\n",
              "/* Toggleable content - dropdown */\n",
              "\n",
              "#sk-container-id-1 div.sk-toggleable__content {\n",
              "  max-height: 0;\n",
              "  max-width: 0;\n",
              "  overflow: hidden;\n",
              "  text-align: left;\n",
              "  /* unfitted */\n",
              "  background-color: var(--sklearn-color-unfitted-level-0);\n",
              "}\n",
              "\n",
              "#sk-container-id-1 div.sk-toggleable__content.fitted {\n",
              "  /* fitted */\n",
              "  background-color: var(--sklearn-color-fitted-level-0);\n",
              "}\n",
              "\n",
              "#sk-container-id-1 div.sk-toggleable__content pre {\n",
              "  margin: 0.2em;\n",
              "  border-radius: 0.25em;\n",
              "  color: var(--sklearn-color-text);\n",
              "  /* unfitted */\n",
              "  background-color: var(--sklearn-color-unfitted-level-0);\n",
              "}\n",
              "\n",
              "#sk-container-id-1 div.sk-toggleable__content.fitted pre {\n",
              "  /* unfitted */\n",
              "  background-color: var(--sklearn-color-fitted-level-0);\n",
              "}\n",
              "\n",
              "#sk-container-id-1 input.sk-toggleable__control:checked~div.sk-toggleable__content {\n",
              "  /* Expand drop-down */\n",
              "  max-height: 200px;\n",
              "  max-width: 100%;\n",
              "  overflow: auto;\n",
              "}\n",
              "\n",
              "#sk-container-id-1 input.sk-toggleable__control:checked~label.sk-toggleable__label-arrow:before {\n",
              "  content: \"▾\";\n",
              "}\n",
              "\n",
              "/* Pipeline/ColumnTransformer-specific style */\n",
              "\n",
              "#sk-container-id-1 div.sk-label input.sk-toggleable__control:checked~label.sk-toggleable__label {\n",
              "  color: var(--sklearn-color-text);\n",
              "  background-color: var(--sklearn-color-unfitted-level-2);\n",
              "}\n",
              "\n",
              "#sk-container-id-1 div.sk-label.fitted input.sk-toggleable__control:checked~label.sk-toggleable__label {\n",
              "  background-color: var(--sklearn-color-fitted-level-2);\n",
              "}\n",
              "\n",
              "/* Estimator-specific style */\n",
              "\n",
              "/* Colorize estimator box */\n",
              "#sk-container-id-1 div.sk-estimator input.sk-toggleable__control:checked~label.sk-toggleable__label {\n",
              "  /* unfitted */\n",
              "  background-color: var(--sklearn-color-unfitted-level-2);\n",
              "}\n",
              "\n",
              "#sk-container-id-1 div.sk-estimator.fitted input.sk-toggleable__control:checked~label.sk-toggleable__label {\n",
              "  /* fitted */\n",
              "  background-color: var(--sklearn-color-fitted-level-2);\n",
              "}\n",
              "\n",
              "#sk-container-id-1 div.sk-label label.sk-toggleable__label,\n",
              "#sk-container-id-1 div.sk-label label {\n",
              "  /* The background is the default theme color */\n",
              "  color: var(--sklearn-color-text-on-default-background);\n",
              "}\n",
              "\n",
              "/* On hover, darken the color of the background */\n",
              "#sk-container-id-1 div.sk-label:hover label.sk-toggleable__label {\n",
              "  color: var(--sklearn-color-text);\n",
              "  background-color: var(--sklearn-color-unfitted-level-2);\n",
              "}\n",
              "\n",
              "/* Label box, darken color on hover, fitted */\n",
              "#sk-container-id-1 div.sk-label.fitted:hover label.sk-toggleable__label.fitted {\n",
              "  color: var(--sklearn-color-text);\n",
              "  background-color: var(--sklearn-color-fitted-level-2);\n",
              "}\n",
              "\n",
              "/* Estimator label */\n",
              "\n",
              "#sk-container-id-1 div.sk-label label {\n",
              "  font-family: monospace;\n",
              "  font-weight: bold;\n",
              "  display: inline-block;\n",
              "  line-height: 1.2em;\n",
              "}\n",
              "\n",
              "#sk-container-id-1 div.sk-label-container {\n",
              "  text-align: center;\n",
              "}\n",
              "\n",
              "/* Estimator-specific */\n",
              "#sk-container-id-1 div.sk-estimator {\n",
              "  font-family: monospace;\n",
              "  border: 1px dotted var(--sklearn-color-border-box);\n",
              "  border-radius: 0.25em;\n",
              "  box-sizing: border-box;\n",
              "  margin-bottom: 0.5em;\n",
              "  /* unfitted */\n",
              "  background-color: var(--sklearn-color-unfitted-level-0);\n",
              "}\n",
              "\n",
              "#sk-container-id-1 div.sk-estimator.fitted {\n",
              "  /* fitted */\n",
              "  background-color: var(--sklearn-color-fitted-level-0);\n",
              "}\n",
              "\n",
              "/* on hover */\n",
              "#sk-container-id-1 div.sk-estimator:hover {\n",
              "  /* unfitted */\n",
              "  background-color: var(--sklearn-color-unfitted-level-2);\n",
              "}\n",
              "\n",
              "#sk-container-id-1 div.sk-estimator.fitted:hover {\n",
              "  /* fitted */\n",
              "  background-color: var(--sklearn-color-fitted-level-2);\n",
              "}\n",
              "\n",
              "/* Specification for estimator info (e.g. \"i\" and \"?\") */\n",
              "\n",
              "/* Common style for \"i\" and \"?\" */\n",
              "\n",
              ".sk-estimator-doc-link,\n",
              "a:link.sk-estimator-doc-link,\n",
              "a:visited.sk-estimator-doc-link {\n",
              "  float: right;\n",
              "  font-size: smaller;\n",
              "  line-height: 1em;\n",
              "  font-family: monospace;\n",
              "  background-color: var(--sklearn-color-background);\n",
              "  border-radius: 1em;\n",
              "  height: 1em;\n",
              "  width: 1em;\n",
              "  text-decoration: none !important;\n",
              "  margin-left: 1ex;\n",
              "  /* unfitted */\n",
              "  border: var(--sklearn-color-unfitted-level-1) 1pt solid;\n",
              "  color: var(--sklearn-color-unfitted-level-1);\n",
              "}\n",
              "\n",
              ".sk-estimator-doc-link.fitted,\n",
              "a:link.sk-estimator-doc-link.fitted,\n",
              "a:visited.sk-estimator-doc-link.fitted {\n",
              "  /* fitted */\n",
              "  border: var(--sklearn-color-fitted-level-1) 1pt solid;\n",
              "  color: var(--sklearn-color-fitted-level-1);\n",
              "}\n",
              "\n",
              "/* On hover */\n",
              "div.sk-estimator:hover .sk-estimator-doc-link:hover,\n",
              ".sk-estimator-doc-link:hover,\n",
              "div.sk-label-container:hover .sk-estimator-doc-link:hover,\n",
              ".sk-estimator-doc-link:hover {\n",
              "  /* unfitted */\n",
              "  background-color: var(--sklearn-color-unfitted-level-3);\n",
              "  color: var(--sklearn-color-background);\n",
              "  text-decoration: none;\n",
              "}\n",
              "\n",
              "div.sk-estimator.fitted:hover .sk-estimator-doc-link.fitted:hover,\n",
              ".sk-estimator-doc-link.fitted:hover,\n",
              "div.sk-label-container:hover .sk-estimator-doc-link.fitted:hover,\n",
              ".sk-estimator-doc-link.fitted:hover {\n",
              "  /* fitted */\n",
              "  background-color: var(--sklearn-color-fitted-level-3);\n",
              "  color: var(--sklearn-color-background);\n",
              "  text-decoration: none;\n",
              "}\n",
              "\n",
              "/* Span, style for the box shown on hovering the info icon */\n",
              ".sk-estimator-doc-link span {\n",
              "  display: none;\n",
              "  z-index: 9999;\n",
              "  position: relative;\n",
              "  font-weight: normal;\n",
              "  right: .2ex;\n",
              "  padding: .5ex;\n",
              "  margin: .5ex;\n",
              "  width: min-content;\n",
              "  min-width: 20ex;\n",
              "  max-width: 50ex;\n",
              "  color: var(--sklearn-color-text);\n",
              "  box-shadow: 2pt 2pt 4pt #999;\n",
              "  /* unfitted */\n",
              "  background: var(--sklearn-color-unfitted-level-0);\n",
              "  border: .5pt solid var(--sklearn-color-unfitted-level-3);\n",
              "}\n",
              "\n",
              ".sk-estimator-doc-link.fitted span {\n",
              "  /* fitted */\n",
              "  background: var(--sklearn-color-fitted-level-0);\n",
              "  border: var(--sklearn-color-fitted-level-3);\n",
              "}\n",
              "\n",
              ".sk-estimator-doc-link:hover span {\n",
              "  display: block;\n",
              "}\n",
              "\n",
              "/* \"?\"-specific style due to the `<a>` HTML tag */\n",
              "\n",
              "#sk-container-id-1 a.estimator_doc_link {\n",
              "  float: right;\n",
              "  font-size: 1rem;\n",
              "  line-height: 1em;\n",
              "  font-family: monospace;\n",
              "  background-color: var(--sklearn-color-background);\n",
              "  border-radius: 1rem;\n",
              "  height: 1rem;\n",
              "  width: 1rem;\n",
              "  text-decoration: none;\n",
              "  /* unfitted */\n",
              "  color: var(--sklearn-color-unfitted-level-1);\n",
              "  border: var(--sklearn-color-unfitted-level-1) 1pt solid;\n",
              "}\n",
              "\n",
              "#sk-container-id-1 a.estimator_doc_link.fitted {\n",
              "  /* fitted */\n",
              "  border: var(--sklearn-color-fitted-level-1) 1pt solid;\n",
              "  color: var(--sklearn-color-fitted-level-1);\n",
              "}\n",
              "\n",
              "/* On hover */\n",
              "#sk-container-id-1 a.estimator_doc_link:hover {\n",
              "  /* unfitted */\n",
              "  background-color: var(--sklearn-color-unfitted-level-3);\n",
              "  color: var(--sklearn-color-background);\n",
              "  text-decoration: none;\n",
              "}\n",
              "\n",
              "#sk-container-id-1 a.estimator_doc_link.fitted:hover {\n",
              "  /* fitted */\n",
              "  background-color: var(--sklearn-color-fitted-level-3);\n",
              "}\n",
              "</style><div id=\"sk-container-id-1\" class=\"sk-top-container\"><div class=\"sk-text-repr-fallback\"><pre>RandomForestClassifier(class_weight=&#x27;balanced&#x27;, random_state=42)</pre><b>In a Jupyter environment, please rerun this cell to show the HTML representation or trust the notebook. <br />On GitHub, the HTML representation is unable to render, please try loading this page with nbviewer.org.</b></div><div class=\"sk-container\" hidden><div class=\"sk-item\"><div class=\"sk-estimator fitted sk-toggleable\"><input class=\"sk-toggleable__control sk-hidden--visually\" id=\"sk-estimator-id-1\" type=\"checkbox\" checked><label for=\"sk-estimator-id-1\" class=\"sk-toggleable__label fitted sk-toggleable__label-arrow fitted\">&nbsp;&nbsp;RandomForestClassifier<a class=\"sk-estimator-doc-link fitted\" rel=\"noreferrer\" target=\"_blank\" href=\"https://scikit-learn.org/1.5/modules/generated/sklearn.ensemble.RandomForestClassifier.html\">?<span>Documentation for RandomForestClassifier</span></a><span class=\"sk-estimator-doc-link fitted\">i<span>Fitted</span></span></label><div class=\"sk-toggleable__content fitted\"><pre>RandomForestClassifier(class_weight=&#x27;balanced&#x27;, random_state=42)</pre></div> </div></div></div></div>"
            ]
          },
          "metadata": {},
          "execution_count": 24
        }
      ]
    },
    {
      "cell_type": "markdown",
      "source": [
        "**Evaluate Model**"
      ],
      "metadata": {
        "id": "vdifMNOYPY3H"
      }
    },
    {
      "cell_type": "code",
      "source": [
        "from sklearn.metrics import classification_report, log_loss\n",
        "\n",
        "# Predict and evaluate\n",
        "y_pred = clf.predict(X_test)\n",
        "y_pred_proba = clf.predict_proba(X_test)\n",
        "\n",
        "# Classification report\n",
        "print(classification_report(y_test, y_pred))\n",
        "\n",
        "# Log loss\n",
        "loss = log_loss(y_test, y_pred_proba)\n",
        "print(f\"Log Loss: {loss}\")"
      ],
      "metadata": {
        "colab": {
          "base_uri": "https://localhost:8080/"
        },
        "id": "vl1Ft-cWO4ow",
        "outputId": "43afa2de-ec07-4a91-b559-bec4a6ef1405"
      },
      "execution_count": 25,
      "outputs": [
        {
          "output_type": "stream",
          "name": "stdout",
          "text": [
            "              precision    recall  f1-score   support\n",
            "\n",
            "           1       0.02      0.48      0.04       165\n",
            "           2       0.85      0.41      0.55     16158\n",
            "           3       0.23      0.36      0.28      3332\n",
            "           4       0.06      0.34      0.10       555\n",
            "\n",
            "    accuracy                           0.40     20210\n",
            "   macro avg       0.29      0.40      0.24     20210\n",
            "weighted avg       0.72      0.40      0.49     20210\n",
            "\n",
            "Log Loss: 1.5355465023050743\n"
          ]
        }
      ]
    },
    {
      "cell_type": "markdown",
      "source": [
        "# **6. Visualization**\n",
        "\n"
      ],
      "metadata": {
        "id": "UsLEXKo34XCC"
      }
    },
    {
      "cell_type": "markdown",
      "source": [
        "**Confusion Matrix**"
      ],
      "metadata": {
        "id": "l0QqRIIwTulm"
      }
    },
    {
      "cell_type": "code",
      "source": [
        "from sklearn.metrics import confusion_matrix\n",
        "import seaborn as sns\n",
        "\n",
        "cm = confusion_matrix(y_test, y_pred)\n",
        "sns.heatmap(cm, annot=True, fmt='d', cmap='Blues')"
      ],
      "metadata": {
        "colab": {
          "base_uri": "https://localhost:8080/",
          "height": 447
        },
        "id": "zpPD8qm1TuCg",
        "outputId": "f1713971-4de3-44d9-b03f-3ae6342b7684"
      },
      "execution_count": 34,
      "outputs": [
        {
          "output_type": "execute_result",
          "data": {
            "text/plain": [
              "<Axes: >"
            ]
          },
          "metadata": {},
          "execution_count": 34
        },
        {
          "output_type": "display_data",
          "data": {
            "text/plain": [
              "<Figure size 640x480 with 2 Axes>"
            ],
            "image/png": "[encoded data removed]"
          },
          "metadata": {}
        }
      ]
    },
    {
      "cell_type": "markdown",
      "source": [
        "**Feature Importance**"
      ],
      "metadata": {
        "id": "wp9famHSPqOL"
      }
    },
    {
      "cell_type": "code",
      "source": [
        "import matplotlib.pyplot as plt\n",
        "import numpy as np\n",
        "\n",
        "importance = clf.feature_importances_\n",
        "feature_names = ['Weather_Condition', 'Hour_of_Day', 'State']\n",
        "plt.barh(np.arange(len(importance)), importance, tick_label=feature_names)\n",
        "plt.xlabel(\"Feature Importance\")\n",
        "plt.title(\"Feature Importance in Predicting Severity\")\n",
        "plt.show()"
      ],
      "metadata": {
        "colab": {
          "base_uri": "https://localhost:8080/",
          "height": 472
        },
        "id": "BMfUYH9fPuE0",
        "outputId": "e5ce75f4-cb80-4832-b60b-2aed5d5b22e4"
      },
      "execution_count": 35,
      "outputs": [
        {
          "output_type": "display_data",
          "data": {
            "text/plain": [
              "<Figure size 640x480 with 1 Axes>"
            ],
            "image/png": "[encoded data removed]"
          },
          "metadata": {}
        }
      ]
    },
    {
      "cell_type": "markdown",
      "source": [
        "**Probability Distributions**"
      ],
      "metadata": {
        "id": "tbv2N9XlPv4A"
      }
    },
    {
      "cell_type": "code",
      "source": [
        "import seaborn as sns\n",
        "\n",
        "plt.figure(figsize=(10, 6))\n",
        "for i, class_label in enumerate(clf.classes_):\n",
        "    sns.kdeplot(y_pred_proba[:, i], label=f\"Class {class_label}\")\n",
        "plt.xlabel(\"Predicted Probability\")\n",
        "plt.ylabel(\"Density\")\n",
        "plt.title(\"Probability Distributions for Predicted Classes\")\n",
        "plt.legend()\n",
        "plt.show()"
      ],
      "metadata": {
        "colab": {
          "base_uri": "https://localhost:8080/",
          "height": 525
        },
        "id": "q08aYkNtP38w",
        "outputId": "1949cac2-5a3c-4be5-afe6-28ae33c7536c"
      },
      "execution_count": 36,
      "outputs": [
        {
          "output_type": "display_data",
          "data": {
            "text/plain": [
              "<Figure size 1000x600 with 1 Axes>"
            ],
            "image/png": "[encoded data removed]"
          },
          "metadata": {}
        }
      ]
    },
    {
      "cell_type": "markdown",
      "source": [
        "# **7. Insights and Conclusions**\n",
        "\n",
        "# Key Takeaways:\n",
        "\n",
        "From our initial data exploration, we are able to see that accidents during the night are more severe than those during the day. Furthermore, improved lighting and nighttime driving regulations could reduce severity. Additionally, precipitation and low visibility significantly increase accident severity. Enhanced warning systems and road maintenance during adverse weather can mitigate this. Some states experience more severe accidents than others, likely due to differences in road conditions, enforcement, or weather. This highlights the need for localized safety measures.\n",
        "In actuality, from the model that we created, using random forest classification, we can see from the feature importance that the most important factor in determining accident severity is the state that it occured in. From the data, we observed that California was the region with the highest density in accidents. The model is not as accurate as we would like it to be. This could be due to a multitude of factors. One of the factors that we have narrowed down is that the sampling of our data being uneven (densely populated data in specific regions). We could fix this by throwing out our state feature or focusing on one specific region in the United States at a time. Another fix would be to analyze the relationship between states and the other features to understand if region does have an impact on the other features and to account for any implications.\n",
        "Our model may not has been as accurate as possible because the relationship between the features are too complex, and its difficult to pick one as the defining factor for accident severity as they could all be interconnected to contribute. We may need a neural network or a more complicated model in order to account for this interconnected complexity.\n",
        "\n",
        "# Future Work:\n",
        "In the future, we believe that analyzing other features, such as vehicle type or driver behavior, would be ideal for deeper insights. Furthermore, we would like to incorporate machine learning techniques to predict accident severity based on given conditions.\n",
        "\n",
        "# Impact:\n",
        "This analysis provides valuable insights for policymakers, urban planners, and transportation agencies to improve road safety and reduce traffic accident severity.\n",
        "\n"
      ],
      "metadata": {
        "id": "cim0mKEyi5iA"
      }
    }
  ]
}